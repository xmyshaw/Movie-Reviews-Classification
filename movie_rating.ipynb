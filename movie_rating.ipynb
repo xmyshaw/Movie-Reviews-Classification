{
 "cells": [
  {
   "cell_type": "markdown",
   "metadata": {},
   "source": [
    "## Chinese Movie Reviews and Ratings"
   ]
  },
  {
   "cell_type": "raw",
   "metadata": {},
   "source": [
    "This python project cope with Chinese movie reviews. The data are Chinese movie reviews and their ratings. \n",
    "\n",
    "The relevant data are retrieved from douban.db, which contains movie information, user information and reviews. What we need is the table “comment”, in which contains two columns named RATING and CONTENT. There are more than 400,000 reviews on 1762 movies.\n",
    "\n",
    "Before running the code, please put the files: douban.db, stopwordsHIT.txt, zh.vec in the same folder with the code.\n",
    "\n",
    "Because the size of file zh.vec is over the limit on ILIAS, please download the file in the following link: \n",
    "https://drive.google.com/open?id=1qNCSanw7RIS33RSiW7j-BygH45AYNjeF\n",
    "\n",
    "Please use pip to install jieba and gensim in the shell.\n",
    "\n",
    "Jieba is a Chinese segmentation tool. It segments sentences into words. Gensim is a word embedding tool."
   ]
  },
  {
   "cell_type": "raw",
   "metadata": {},
   "source": [
    "pip install jieba\n",
    "pip install gensim"
   ]
  },
  {
   "cell_type": "raw",
   "metadata": {},
   "source": [
    "Fistly, load the data from douban.db file. \n",
    "\n",
    "We create a database connection, and if the connection fails, throw error message. Then we provide the file name and connect the database. "
   ]
  },
  {
   "cell_type": "code",
   "execution_count": 1,
   "metadata": {},
   "outputs": [],
   "source": [
    "#!/usr/bin/python\n",
    "\n",
    "#read .db file and store rating and content in lists\n",
    "import sqlite3\n",
    "from sqlite3 import Error\n",
    "\n",
    "# create a database connection\n",
    "def create_connection(db_file):\n",
    "    \"\"\" create a database connection to the SQLite database\n",
    "        specified by the db_file\n",
    "    :param db_file: database file\n",
    "    :return: Connection object or None\n",
    "    \"\"\"\n",
    "    try:\n",
    "        conn = sqlite3.connect(db_file)\n",
    "        return conn\n",
    "    except Error as e:\n",
    "        print(e)\n",
    " \n",
    "    return None\n",
    "\n",
    "#creat database path\n",
    "database = \"douban.db\"\n",
    "#connect database\n",
    "conn = create_connection(database)"
   ]
  },
  {
   "cell_type": "raw",
   "metadata": {},
   "source": [
    "With the opened database, we select the columns RATING and CONTENT from the table “comment”, and at the same time we exclude empty values by limiting the content in the column RATINGS: only 1 2 3 4 5 allowed. As what we get from the print function, these information (rating, content) are returned as a list and stored in the list rows. \n",
    "\n",
    "In the output: \n",
    "print rows[10]:  (2, '这种怪兽灾难人祸片的一切都似曾相识，特效看的头晕脑胀，如果没有嘈杂的背景音乐或许能够惊悚一点。')\n",
    "2 is the rating, and the following strings are the content of the comments.\n",
    "\n",
    "Then iterate the rows and append the 0 element of list (rating) to the list rating, and append the 1st element of the list (content) to the list content. \n"
   ]
  },
  {
   "cell_type": "code",
   "execution_count": 2,
   "metadata": {},
   "outputs": [
    {
     "name": "stdout",
     "output_type": "stream",
     "text": [
      "print rows[10]:  (2, '这种怪兽灾难人祸片的一切都似曾相识，特效看的头晕脑胀，如果没有嘈杂的背景音乐或许能够惊悚一点。')\n"
     ]
    }
   ],
   "source": [
    "with conn:\n",
    "    \"\"\"\n",
    "    Query all rows in the comment table\n",
    "    :param conn: the Connection object\n",
    "    :return:\n",
    "    \"\"\"\n",
    "    cur = conn.cursor()\n",
    "    #select rating, content from the table comment, and limit the rating within 1,2,3,4,5\n",
    "    cur.execute(\"SELECT RATING, CONTENT FROM comment WHERE RATING IN (1,2,3,4,5)\")\n",
    "    #store ratings and content in the lst\n",
    "    rows = cur.fetchall()\n",
    "    \n",
    "    print(\"print rows[10]: \", rows[10])\n",
    "\n",
    "    #store the rating and content from the .db file to lists\n",
    "    rating = []\n",
    "    content = []\n",
    "    for row in rows:\n",
    "        rating.append(row[0])\n",
    "        content.append(row[1]) "
   ]
  },
  {
   "cell_type": "raw",
   "metadata": {},
   "source": [
    "Now we have the two list containing ratings and content of the comments, and the length of them are both 403946, and the two lists are related with each other by their indices."
   ]
  },
  {
   "cell_type": "code",
   "execution_count": 3,
   "metadata": {
    "scrolled": true
   },
   "outputs": [
    {
     "name": "stdout",
     "output_type": "stream",
     "text": [
      "length of the list rating:  403946\n",
      "length of the list content:  403946\n",
      "print the 10th element:  2 这种怪兽灾难人祸片的一切都似曾相识，特效看的头晕脑胀，如果没有嘈杂的背景音乐或许能够惊悚一点。\n"
     ]
    }
   ],
   "source": [
    "print(\"length of the list rating: \", len(rating))\n",
    "print(\"length of the list content: \", len(content))\n",
    "print(\"print the 10th element: \", rating[10],content[10])"
   ]
  },
  {
   "cell_type": "raw",
   "metadata": {},
   "source": [
    "Now we create a list of stopwords for further use.\n",
    "\n",
    "The stopwords are readed from a text file: stopwordsHIT.txt. It contains more than 700 Chinese stopwords.\n",
    "\n",
    "In this step we read the stopwords file, split it with new lines, put the strings in each line to a list and return the list."
   ]
  },
  {
   "cell_type": "code",
   "execution_count": 4,
   "metadata": {},
   "outputs": [],
   "source": [
    "#create stopwords list\n",
    "def get_custom_stopwords(stop_words_file):\n",
    "    #open the file\n",
    "    stopwords = ''\n",
    "    with open(stop_words_file, encoding= 'utf-8') as f:\n",
    "        stopwords = f.read()\n",
    "    #split with new line\n",
    "    stopwords_list = stopwords.split('\\n')\n",
    "    #put into the list of stopwords\n",
    "    custom_stopwords_list = [i for i in stopwords_list]\n",
    "    return custom_stopwords_list\n",
    "\n",
    "stop_words_file = \"stopwordsHIT.txt\"\n",
    "stopwords = get_custom_stopwords(stop_words_file)"
   ]
  },
  {
   "cell_type": "raw",
   "metadata": {},
   "source": [
    "Let us see if the stopwords are put into the list."
   ]
  },
  {
   "cell_type": "code",
   "execution_count": 5,
   "metadata": {},
   "outputs": [
    {
     "name": "stdout",
     "output_type": "stream",
     "text": [
      "['呗', '咚', '咦', '喏', '啐', '喔唷', '嗬', '嗯', '嗳', '']\n"
     ]
    }
   ],
   "source": [
    "print(stopwords[-10:])"
   ]
  },
  {
   "cell_type": "raw",
   "metadata": {},
   "source": [
    "Chinese has no word boundary, therefore we should import the package Jieba to segment sentences into words.  \n",
    "\n",
    "It iterates the list content and segment all sentences, remove stopwords, and appending the rest words with blank spaces to the string outstr. Then the outstr is appended to the list seg_content.\n",
    "\n",
    "We add blank space between words, because it is easier for the tokenizer in the later steps to tokenize."
   ]
  },
  {
   "cell_type": "code",
   "execution_count": 6,
   "metadata": {},
   "outputs": [
    {
     "name": "stderr",
     "output_type": "stream",
     "text": [
      "Building prefix dict from the default dictionary ...\n",
      "Loading model from cache /var/folders/01/qvqsfjbj5hl0sr_51g22pvv00000gn/T/jieba.cache\n",
      "Loading model cost 0.800 seconds.\n",
      "Prefix dict has been built succesfully.\n"
     ]
    }
   ],
   "source": [
    "#segmentation\n",
    "seg_content = []\n",
    "\n",
    "import jieba\n",
    "\n",
    "for i in content:\n",
    "    outstr = \"\"\n",
    "    #segment each comment\n",
    "    seg = jieba.cut(i, cut_all=False, HMM=True)\n",
    "    #iterate the comment and check if it contains stopwords\n",
    "    for word in seg:\n",
    "        #if the word is not a stopword, attach it to string outstr\n",
    "        if word not in stopwords:\n",
    "            if word != '\\t':\n",
    "                outstr += word\n",
    "                outstr += \" \"\n",
    "    #append all strings (segmented comments) in a list            \n",
    "    seg_content.append(outstr)"
   ]
  },
  {
   "cell_type": "raw",
   "metadata": {},
   "source": [
    "Print out the list seg_content to see if it is successfully segmented, and if stopwords are removed."
   ]
  },
  {
   "cell_type": "code",
   "execution_count": 7,
   "metadata": {},
   "outputs": [
    {
     "name": "stdout",
     "output_type": "stream",
     "text": [
      "length of seg_content:  403946\n",
      "print the seg_content[:5]: ['弱到 爆 … 剧情 氛围 烘托 表演 服化 道 特效 统统 弱到 爆 女主 哥哥 转折 超级 无力 女主 默默 烫发 表现 阶段性 转折 醉 … 小 迅猛 龙 看起来 狗 以外 真是 … 吐槽 无力 ', '傻 逼 电影 看 怀旧 份儿 上 两星 半 不能 更 … … 一蟹 一蟹 ', '这片 存在 意义 难道 告诉 22 年 过去 人类 商业片 方面 都 处于 停滞不前 倒退 状况 无论是 气氛 渲染 场面 调度 表现 人文 关怀 人性 冲突 体现 都 比不上 22 年前 侏罗纪 公园 侏罗纪 公园 经典 名作 侏罗纪 世界 只会 早早 人 遗忘 不值一提 ', '史诗 级 暴虐 烂片 ', 'jb 玩意儿 反智 今时 今日 ']\n"
     ]
    }
   ],
   "source": [
    "print(\"length of seg_content: \" , len(seg_content))\n",
    "print(\"print the seg_content[:5]:\" , seg_content[:5])"
   ]
  },
  {
   "cell_type": "raw",
   "metadata": {},
   "source": [
    "The next step is to tokenize the movie reviews. Import all needed packages."
   ]
  },
  {
   "cell_type": "code",
   "execution_count": 8,
   "metadata": {},
   "outputs": [
    {
     "name": "stderr",
     "output_type": "stream",
     "text": [
      "Using TensorFlow backend.\n"
     ]
    }
   ],
   "source": [
    "#tokenization\n",
    "import keras\n",
    "from keras.preprocessing.text import Tokenizer\n",
    "from keras.preprocessing.sequence import pad_sequences\n",
    "import numpy as np"
   ]
  },
  {
   "cell_type": "raw",
   "metadata": {},
   "source": [
    "While tokenizing the reviews, only the most frequent 10,000 words are used, and these words are turned to sequences (numbers)."
   ]
  },
  {
   "cell_type": "code",
   "execution_count": 9,
   "metadata": {},
   "outputs": [],
   "source": [
    "max_words = 10000\n",
    "\n",
    "#only use the most frequent 10000 words\n",
    "tokenizer = Tokenizer(num_words=max_words)\n",
    "tokenizer.fit_on_texts(seg_content)\n",
    "#turn text to sequences\n",
    "sequences = tokenizer.texts_to_sequences(seg_content)"
   ]
  },
  {
   "cell_type": "raw",
   "metadata": {},
   "source": [
    "Check if the cotent are already changed to sequences. Check the length of the length of 0-10 element of the list sequences."
   ]
  },
  {
   "cell_type": "code",
   "execution_count": 10,
   "metadata": {},
   "outputs": [
    {
     "name": "stdout",
     "output_type": "stream",
     "text": [
      "type of sequences:  <class 'list'>\n",
      "print sequences[:1] [[610, 6, 19, 771, 3991, 90, 1354, 188, 5602, 610, 141, 1475, 1996, 419, 1090, 141, 2892, 208, 1996, 2304, 6, 65, 8873, 2772, 582, 869, 1685, 39, 6, 1209, 1090]]\n",
      "length of sequences:\n",
      "31\n",
      "12\n",
      "42\n",
      "4\n",
      "3\n",
      "16\n",
      "9\n",
      "6\n",
      "5\n",
      "5\n",
      "15\n",
      "1\n",
      "27\n",
      "9\n",
      "6\n",
      "3\n",
      "0\n",
      "42\n",
      "6\n",
      "51\n",
      "13\n",
      "4\n",
      "16\n",
      "6\n",
      "4\n",
      "21\n",
      "44\n",
      "7\n",
      "2\n",
      "6\n",
      "21\n",
      "14\n",
      "10\n",
      "15\n",
      "17\n",
      "21\n",
      "15\n",
      "4\n",
      "25\n",
      "38\n",
      "39\n",
      "23\n",
      "2\n",
      "14\n",
      "1\n",
      "6\n",
      "4\n",
      "6\n",
      "7\n",
      "27\n",
      "7\n",
      "19\n",
      "11\n",
      "7\n",
      "4\n",
      "0\n",
      "2\n",
      "7\n",
      "48\n",
      "3\n",
      "18\n",
      "0\n",
      "2\n",
      "9\n",
      "3\n",
      "13\n",
      "7\n",
      "4\n",
      "21\n",
      "7\n",
      "24\n",
      "3\n",
      "31\n",
      "6\n",
      "33\n",
      "4\n",
      "31\n",
      "8\n",
      "13\n",
      "7\n",
      "16\n",
      "33\n",
      "17\n",
      "17\n",
      "9\n",
      "5\n",
      "21\n",
      "7\n",
      "7\n",
      "16\n",
      "41\n",
      "14\n",
      "2\n",
      "4\n",
      "12\n",
      "10\n",
      "13\n",
      "10\n",
      "3\n",
      "7\n"
     ]
    }
   ],
   "source": [
    "print(\"type of sequences: \" , type(sequences))\n",
    "print(\"print sequences[:1]\" , sequences[:1])\n",
    "\n",
    "print(\"length of sequences:\")\n",
    "for sequence in sequences[:100]:\n",
    "  print(len(sequence))"
   ]
  },
  {
   "cell_type": "raw",
   "metadata": {},
   "source": [
    "As the length (numbers of tokens) of each sequence are different, we unite all sentences as the same length 30 by using pad_sequences function (line 83). In this way, the sentences longer than 30 words are cut down to 30 and the sentences shorted than 30 words are put the number 0 from the beginning to make it 30 words long. Uniforming the length of each sentences will make it easier to train the model."
   ]
  },
  {
   "cell_type": "code",
   "execution_count": 11,
   "metadata": {},
   "outputs": [],
   "source": [
    "maxlen = 30\n",
    "\n",
    "#make all sequences the same length\n",
    "data = pad_sequences(sequences, maxlen=maxlen)"
   ]
  },
  {
   "cell_type": "raw",
   "metadata": {},
   "source": [
    "Check how the data looks like."
   ]
  },
  {
   "cell_type": "code",
   "execution_count": 12,
   "metadata": {},
   "outputs": [
    {
     "name": "stdout",
     "output_type": "stream",
     "text": [
      "[[   6   19  771 ...    6 1209 1090]\n",
      " [   0    0    0 ...   42    6    6]\n",
      " [3210 7076 5829 ...    7 3080 9457]\n",
      " ...\n",
      " [   0    0    0 ... 2113 4571 3717]\n",
      " [   0    0    0 ...  138   46 3010]\n",
      " [   0    0    0 ...    0    0  647]]\n"
     ]
    }
   ],
   "source": [
    "print(data)"
   ]
  },
  {
   "cell_type": "raw",
   "metadata": {},
   "source": [
    "We also want to know what word that each number represents. So we save the words and their sequences in to the dictionary word_index."
   ]
  },
  {
   "cell_type": "code",
   "execution_count": 13,
   "metadata": {},
   "outputs": [],
   "source": [
    "#save words and their sequences in a dictionary\n",
    "word_index = tokenizer.word_index"
   ]
  },
  {
   "cell_type": "raw",
   "metadata": {},
   "source": [
    "The ratings are the integers 1,2,3,4,5. We treat them as 5 categories and turn the ratings to one-hot encoding."
   ]
  },
  {
   "cell_type": "code",
   "execution_count": 14,
   "metadata": {},
   "outputs": [
    {
     "name": "stdout",
     "output_type": "stream",
     "text": [
      "print labels: [[1 0 0 0 0]\n",
      " [0 1 0 0 0]\n",
      " [0 1 0 0 0]\n",
      " ...\n",
      " [0 1 0 0 0]\n",
      " [0 1 0 0 0]\n",
      " [0 1 0 0 0]]\n"
     ]
    }
   ],
   "source": [
    "#labels to one hot\n",
    "from sklearn.preprocessing import LabelBinarizer\n",
    "encoder = LabelBinarizer()\n",
    "labels = encoder.fit_transform(rating)\n",
    "\n",
    "print(\"print labels:\" , labels)\n"
   ]
  },
  {
   "cell_type": "raw",
   "metadata": {},
   "source": [
    "Shuffle all data and their labels, and they are related to each other by their indices.\n",
    "\n",
    "In the original file, the reviews on same movies are grouped together. We need to shuffle the data to arrange the reviews on different movies randomly."
   ]
  },
  {
   "cell_type": "code",
   "execution_count": 15,
   "metadata": {},
   "outputs": [],
   "source": [
    "#shuffle data and labels\n",
    "indices = np.arange(data.shape[0])\n",
    "np.random.shuffle(indices)\n",
    "data = data[indices]\n",
    "labels = labels[indices]"
   ]
  },
  {
   "cell_type": "raw",
   "metadata": {},
   "source": [
    "Next, split the data into train data, validation data and test data. First we split the data and their labels into train and test, 70% as train and 30% as test. Then we split the train data into train and validation, 80% as train and 20% as validation."
   ]
  },
  {
   "cell_type": "code",
   "execution_count": 16,
   "metadata": {},
   "outputs": [],
   "source": [
    "#split data into trian, test, validation\n",
    "from sklearn.model_selection import train_test_split\n",
    "X_train_data, X_test, y_train_data, y_test = train_test_split(data, labels, test_size=0.3, random_state = 42)\n",
    "\n",
    "training_samples = int(len(X_train_data) * .8)\n",
    "validation_samples = len(X_train_data) - training_samples\n",
    "\n",
    "X_train = X_train_data[:training_samples]\n",
    "y_train = y_train_data[:training_samples]\n",
    "X_valid = X_train_data[training_samples: training_samples + validation_samples]\n",
    "y_valid = y_train_data[training_samples: training_samples + validation_samples]"
   ]
  },
  {
   "cell_type": "raw",
   "metadata": {},
   "source": [
    "Now we have finished preprocessing the data.\n",
    "\n",
    "Next, word embedding.\n",
    "\n",
    "We use the Gensim developed by Facebook. The fasttext in Gensim is a word embedding tool. They hava a package for Chineses word embedding zh.vec."
   ]
  },
  {
   "cell_type": "code",
   "execution_count": 17,
   "metadata": {},
   "outputs": [],
   "source": [
    "#word embedding\n",
    "from gensim.models import KeyedVectors\n",
    "zh_model = KeyedVectors.load_word2vec_format('zh.vec')"
   ]
  },
  {
   "cell_type": "raw",
   "metadata": {},
   "source": [
    "Let us print out one example from the zh.vec.\n",
    "\n",
    "It contains the vectors which show their positions on the vocabulary map. This printed vector is the vector of the word \"的\". Each word is represented by 300 dimensions."
   ]
  },
  {
   "cell_type": "code",
   "execution_count": 18,
   "metadata": {},
   "outputs": [
    {
     "name": "stdout",
     "output_type": "stream",
     "text": [
      "[ 8.6988e-02  9.1123e-02  3.0722e-02  3.4160e-03  2.7568e-02  5.4995e-03\n",
      "  1.0905e-01  4.9999e-02 -1.9161e-01  4.2729e-02  1.3284e-01 -4.2997e-02\n",
      "  4.4196e-02 -4.6042e-02  5.2395e-02 -1.3002e-01  1.1440e-01 -1.5359e-01\n",
      "  5.7565e-02  1.3344e-01 -6.4197e-02  5.3679e-02  1.3349e-01  6.1268e-02\n",
      " -2.4911e-03  1.9382e-01  4.4253e-02 -2.0858e-02 -8.0714e-02  1.0053e-01\n",
      "  5.8553e-02  6.3155e-02 -2.9961e-02 -3.1906e-02  5.6153e-02  5.1014e-02\n",
      "  1.0752e-01 -7.4407e-02  9.1990e-02  1.7744e-01 -5.9959e-02  1.4046e-01\n",
      " -8.0201e-02  4.3989e-02 -9.5205e-02  1.3022e-02  9.1900e-02  2.4317e-02\n",
      " -7.0992e-02 -1.5179e-01 -3.0031e-02  1.0344e-01 -5.8155e-02  3.5950e-02\n",
      " -5.5085e-02  4.7587e-02 -1.4251e-01 -1.3986e-01 -1.3891e-01  6.9042e-03\n",
      "  9.0945e-02 -5.5156e-02  6.8180e-02  1.1948e-01  7.8577e-03  1.0014e-01\n",
      " -4.2805e-02  2.2362e-01 -2.6212e-02 -3.5302e-02 -6.2687e-03 -1.0843e-01\n",
      "  1.0872e-01  2.8890e-02 -3.5473e-03 -1.9498e-01 -7.5138e-02  8.5332e-03\n",
      " -1.0061e-01 -1.7855e-02 -1.5515e-01  5.3034e-02  5.6923e-02  1.2199e-01\n",
      "  4.6883e-02  2.1629e-02  1.0586e-01  1.6561e-01 -6.9487e-02  5.4721e-02\n",
      " -3.8894e-02  5.7113e-02  1.3905e-02  7.9968e-03  2.0372e-02  3.3724e-02\n",
      "  8.9571e-02 -6.1825e-02  8.8606e-02 -5.5677e-04 -3.8857e-02 -4.9158e-02\n",
      " -1.6729e-01 -1.8883e-02 -8.5901e-02  5.5962e-02  2.5990e-04 -9.9389e-02\n",
      " -3.0678e-02  1.9205e-01 -1.5735e-01 -1.0431e-01  8.2319e-02  1.2595e-02\n",
      "  9.2085e-02 -5.6538e-02  1.4844e-02  9.3501e-02  1.4248e-02  7.2259e-02\n",
      " -5.5934e-02  1.1639e-02 -5.8573e-02 -1.3317e-02  6.1250e-02 -5.5100e-02\n",
      "  5.6260e-02  1.2347e-01 -3.2506e-02  3.3067e-02 -2.5218e-02  1.0814e-01\n",
      " -5.6682e-02  8.7505e-03 -4.8172e-02 -6.4899e-02  1.6328e-01 -7.9505e-02\n",
      "  2.7262e-03  1.3690e-01 -6.1343e-02 -9.6471e-02  1.5359e-01 -9.9349e-02\n",
      "  4.0632e-03 -1.9113e-01  8.2199e-02 -2.5211e-02  1.3088e-01 -3.7268e-02\n",
      "  1.1964e-01  8.6707e-02  4.2749e-02 -1.5924e-03 -1.7589e-02  4.7354e-02\n",
      "  8.3091e-02 -6.5673e-03 -7.3253e-02 -1.0561e-01 -9.5948e-02  3.5908e-03\n",
      "  8.2236e-02 -6.5011e-02  2.0903e-02 -4.8451e-02 -5.2236e-02 -8.7794e-02\n",
      " -1.0255e-01  1.1870e-02 -5.4561e-02 -1.1820e-01  6.9707e-02  1.1088e-01\n",
      "  4.9565e-02 -1.6908e-01 -2.5972e-02  1.7717e-01  1.2777e-02 -2.1880e-01\n",
      " -3.6761e-02  6.8808e-02 -3.7581e-02  1.9503e-04 -7.8141e-03  8.1960e-02\n",
      " -1.0362e-01 -1.2003e-01 -5.1110e-02  2.8537e-02  1.0095e-01  1.5120e-01\n",
      " -4.0180e-02  5.0266e-02  7.5779e-03 -4.2154e-02  1.2446e-01  1.2966e-01\n",
      " -1.2152e-01  3.6949e-02 -1.5425e-01 -1.1030e-01  1.3733e-02  1.4245e-01\n",
      "  1.3199e-02  1.2274e-01  6.2722e-02 -9.5067e-02  1.1852e-01 -5.2969e-02\n",
      " -4.3863e-02 -8.2138e-02 -1.0900e-01 -1.2394e-01  2.1520e-02 -4.8022e-02\n",
      " -7.6740e-02  3.9333e-03  2.7155e-02 -8.4467e-02 -4.5000e-03 -5.6752e-02\n",
      "  5.6311e-02 -2.7916e-02 -9.6325e-04 -2.9923e-02  2.1275e-01  5.1629e-02\n",
      "  6.0354e-02  9.2330e-02  7.5225e-03  1.4324e-01  5.3696e-02  2.8918e-04\n",
      " -1.1208e-01 -1.4720e-02 -5.7640e-03  3.5396e-02 -2.5289e-02 -1.4953e-02\n",
      "  3.8573e-03 -5.4327e-02 -1.0364e-01  7.9213e-02  1.1286e-01  2.8222e-01\n",
      "  1.2950e-01  4.0886e-02  3.6691e-02  5.1253e-02  4.7032e-02  3.4693e-02\n",
      "  5.4439e-02  1.2965e-01  7.7064e-02 -1.0494e-01  1.3365e-03 -1.1190e-01\n",
      " -1.0400e-03  8.7689e-02  3.5548e-02  9.7216e-02 -9.7204e-02 -2.5457e-02\n",
      " -4.9834e-02 -2.9047e-02 -9.1388e-02 -2.3864e-02  9.9744e-02 -8.0191e-02\n",
      "  5.4590e-02  2.3268e-02 -8.3031e-02 -8.0196e-02  2.2590e-03  9.1633e-02\n",
      "  1.9678e-02 -6.8804e-02  5.1628e-02  3.0844e-02 -1.8965e-01 -3.0205e-02\n",
      " -9.2076e-04 -1.0805e-01  1.4195e-02  2.6702e-02 -8.9089e-02  4.0170e-02\n",
      " -1.9595e-02  1.7595e-04  1.6760e-01 -6.8750e-02  8.3131e-02  1.2923e-01\n",
      "  1.1810e-01 -1.4765e-03 -1.7965e-02  1.0950e-01 -5.3695e-02  3.3823e-02]\n",
      "['的', '</s>', '在', '是', '年']\n",
      "300\n"
     ]
    }
   ],
   "source": [
    "#print a vector\n",
    "print(zh_model.vectors[0])\n",
    "\n",
    "#print the first 5 words\n",
    "print(list(iter(zh_model.vocab))[:5])\n",
    "\n",
    "#print the total dimensions\n",
    "print(len(zh_model[next(iter(zh_model.vocab))]))"
   ]
  },
  {
   "cell_type": "raw",
   "metadata": {},
   "source": [
    "Then we save the numbers of dimensions, and build a random matrix with the length of each comment and the number of dimensions.\n",
    "\n",
    "As what we have seen from the zh.vec, all the numbers are between -1 and 1. By using random.rand, the number are between 0 and 1. To make the random matrix similar to the vectors in zh.vec, we use a simple formula embedding_matrix = (embedding_matrix - 0.5) * 2.\n",
    "\n",
    "This step is for the words that are not included in fasttext. We use some random vectors with 300 dimensions to represent these unknown words. If we do not assign random vectors to these unknown words, the fasttext will return error message."
   ]
  },
  {
   "cell_type": "code",
   "execution_count": 19,
   "metadata": {},
   "outputs": [
    {
     "name": "stdout",
     "output_type": "stream",
     "text": [
      "(10000, 300)\n"
     ]
    }
   ],
   "source": [
    "embedding_dim = len(zh_model[next(iter(zh_model.vocab))])\n",
    "#build a random matrix\n",
    "embedding_matrix = np.random.rand(max_words, embedding_dim)\n",
    "print(embedding_matrix.shape)\n",
    "\n",
    "#a formula to turn the numbers to the range between -1 and 1\n",
    "embedding_matrix = (embedding_matrix - 0.5) * 2"
   ]
  },
  {
   "cell_type": "raw",
   "metadata": {},
   "source": [
    "This step is to determine if the word is in fasttext, if yes, we replace the random vector in embedding_matrix with the vector from fasttext, otherwise, we use random vector we generated earlier.\n"
   ]
  },
  {
   "cell_type": "code",
   "execution_count": 20,
   "metadata": {},
   "outputs": [],
   "source": [
    "for word, i in word_index.items():\n",
    "    if i < max_words:\n",
    "        try:\n",
    "            #if the word is in the zh.vec, change the randomly generated vector to the vector retrieved from zh.vec\n",
    "            embedding_vector = zh_model.get_vector(word)\n",
    "            embedding_matrix[i] = embedding_vector\n",
    "        #if the word is not in the zh.vec, still use our randomly generated vector\n",
    "        except:\n",
    "            pass"
   ]
  },
  {
   "cell_type": "raw",
   "metadata": {},
   "source": [
    "Now we can build our model.\n",
    "\n",
    "We have 3 layers including the Embedding layer (input dimension 10000, output dimension 300), LSTM layer (32 units), and a dense output layer with 5 units, and its activation is softmax because the rating has 5 kinds. \n",
    "\n",
    "We should also set our embedding matrix created above as weights in our embedding layer. Then we set the layer trainable as false because we do not want to train this input layer.\n",
    "\n",
    "Because the output has 5 categories, we set the loss as \"categorical_crossentropy\"."
   ]
  },
  {
   "cell_type": "code",
   "execution_count": 21,
   "metadata": {},
   "outputs": [
    {
     "name": "stdout",
     "output_type": "stream",
     "text": [
      "WARNING:tensorflow:From /Users/xmy/Library/Python/3.7/lib/python/site-packages/tensorflow/python/framework/op_def_library.py:263: colocate_with (from tensorflow.python.framework.ops) is deprecated and will be removed in a future version.\n",
      "Instructions for updating:\n",
      "Colocations handled automatically by placer.\n",
      "_________________________________________________________________\n",
      "Layer (type)                 Output Shape              Param #   \n",
      "=================================================================\n",
      "embedding_1 (Embedding)      (None, None, 300)         3000000   \n",
      "_________________________________________________________________\n",
      "lstm_1 (LSTM)                (None, 32)                42624     \n",
      "_________________________________________________________________\n",
      "dense_1 (Dense)              (None, 5)                 165       \n",
      "=================================================================\n",
      "Total params: 3,042,789\n",
      "Trainable params: 3,042,789\n",
      "Non-trainable params: 0\n",
      "_________________________________________________________________\n"
     ]
    }
   ],
   "source": [
    "from keras.models import Sequential\n",
    "from keras import models\n",
    "from keras import layers\n",
    "from keras.layers import Embedding, Flatten, Dense, LSTM\n",
    "\n",
    "units = 32\n",
    "\n",
    "def build_model():\n",
    "    model = Sequential()\n",
    "    model.add(Embedding(max_words, embedding_dim))\n",
    "    model.add(LSTM(units))\n",
    "    model.add(Dense(5, activation='softmax'))\n",
    "    model.summary()\n",
    "\n",
    "    #add our embedding matrix to the embedding layer\n",
    "    model.layers[0].set_weights([embedding_matrix])\n",
    "    model.layers[0].trainable = False\n",
    "\n",
    "    model.compile(optimizer='rmsprop',\n",
    "                loss='categorical_crossentropy',\n",
    "                metrics=['acc'])\n",
    "\n",
    "    return model\n",
    "\n",
    "model = build_model()"
   ]
  },
  {
   "cell_type": "raw",
   "metadata": {},
   "source": [
    "Now we fit our data in the model and save it in history, and also save the model in \"mymodel.h5\"."
   ]
  },
  {
   "cell_type": "code",
   "execution_count": 22,
   "metadata": {},
   "outputs": [
    {
     "name": "stdout",
     "output_type": "stream",
     "text": [
      "WARNING:tensorflow:From /Users/xmy/Library/Python/3.7/lib/python/site-packages/tensorflow/python/ops/math_ops.py:3066: to_int32 (from tensorflow.python.ops.math_ops) is deprecated and will be removed in a future version.\n",
      "Instructions for updating:\n",
      "Use tf.cast instead.\n",
      "Train on 226209 samples, validate on 56553 samples\n",
      "Epoch 1/4\n",
      "226209/226209 [==============================] - 101s 444us/step - loss: 1.1328 - acc: 0.4990 - val_loss: 1.0655 - val_acc: 0.5319\n",
      "Epoch 2/4\n",
      "226209/226209 [==============================] - 93s 411us/step - loss: 1.0396 - acc: 0.5476 - val_loss: 1.0320 - val_acc: 0.5493\n",
      "Epoch 3/4\n",
      "226209/226209 [==============================] - 93s 413us/step - loss: 1.0053 - acc: 0.5642 - val_loss: 1.0206 - val_acc: 0.5542\n",
      "Epoch 4/4\n",
      "226209/226209 [==============================] - 94s 417us/step - loss: 0.9845 - acc: 0.5748 - val_loss: 1.0179 - val_acc: 0.5567\n"
     ]
    }
   ],
   "source": [
    "history = model.fit(X_train, y_train,\n",
    "                    epochs=4,\n",
    "                    batch_size=64,\n",
    "                    validation_data=(X_valid, y_valid))\n",
    "model.save(\"mymodel.h5\")"
   ]
  },
  {
   "cell_type": "raw",
   "metadata": {},
   "source": [
    "Now visualize the accuracy and the loss of the train data and validation data."
   ]
  },
  {
   "cell_type": "code",
   "execution_count": 25,
   "metadata": {},
   "outputs": [
    {
     "data": {
      "image/png": "[encoded data removed]",
      "text/plain": [
       "<Figure size 432x288 with 1 Axes>"
      ]
     },
     "metadata": {
      "needs_background": "light"
     },
     "output_type": "display_data"
    },
    {
     "data": {
      "image/png": "[encoded data removed]",
      "text/plain": [
       "<Figure size 432x288 with 1 Axes>"
      ]
     },
     "metadata": {
      "needs_background": "light"
     },
     "output_type": "display_data"
    }
   ],
   "source": [
    "#visualization\n",
    "import matplotlib.pyplot as plt\n",
    "\n",
    "acc = history.history['acc']\n",
    "val_acc = history.history['val_acc']\n",
    "loss = history.history['loss']\n",
    "val_loss = history.history['val_loss']\n",
    "\n",
    "epochs = range(1, len(acc) + 1)\n",
    "\n",
    "#draw accuracy graph\n",
    "plt.plot(epochs, acc, 'bo', label='Training acc')\n",
    "plt.plot(epochs, val_acc, 'b', label='Validation acc')\n",
    "plt.title('Training and validation accuracy')\n",
    "plt.legend()\n",
    "\n",
    "plt.figure()\n",
    "\n",
    "#draw loss graph\n",
    "plt.plot(epochs, loss, 'bo', label='Training loss')\n",
    "plt.plot(epochs, val_loss, 'b', label='Validation loss')\n",
    "plt.title('Training and validation loss')\n",
    "plt.legend()\n",
    "\n",
    "plt.show()"
   ]
  },
  {
   "cell_type": "raw",
   "metadata": {},
   "source": [
    "In this project, I have experimented with different settings.\n",
    "\n",
    "By enhancing the batch_size, we did not get better result, so we set it as 64. \n",
    "\n",
    "We have also used other optimizer like \"adam\", but they did not improve the performance, so we still use \"rmsprop\". \n",
    "\n",
    "At the beginning, we set the epochs as 10, but the accuracy graph and loss graph becomes stable at around 3 and 4. So we set the epoch as 4.\n",
    "\n",
    "It was quite interesting that without excluding stopwords, the outcome was also the same. But we will still keep this part."
   ]
  },
  {
   "cell_type": "raw",
   "metadata": {},
   "source": [
    "Now evaluate our model on our test data."
   ]
  },
  {
   "cell_type": "code",
   "execution_count": 24,
   "metadata": {},
   "outputs": [
    {
     "name": "stdout",
     "output_type": "stream",
     "text": [
      "121184/121184 [==============================] - 22s 180us/step\n",
      "[1.015950807298681, 0.5602884869289675]\n"
     ]
    }
   ],
   "source": [
    "#evaluate on test data\n",
    "results = model.evaluate(X_test,y_test)\n",
    "print(results)"
   ]
  },
  {
   "cell_type": "raw",
   "metadata": {},
   "source": [
    "The model has about 56% accuracy.\n",
    "\n",
    "Our accuracy on train data, validation data and test data are all around 50-60%, which is satisfying but not an excellent result. This maybe cause by the segmentation of words. As we can see from the output sentences after segmentation, it does not recognize some new words and uncommon words, and thus causes wrong segmentation. \n",
    "\n",
    "In addition, the reviews and their ratings may also account for this. As multi-category ratings, some people's review do not match their ratings very well. Moreover, there is no clear boundaries between ratings. For example, some people give a negative review, but the rating could be 1 or 2 or 3 stars. It might cope better with the binary category labels, for example, we can mark the reviews with a rating 1 or 2 as negative, 4 or 5 as positive, and exclude the reviews with rating 3. "
   ]
  }
 ],
 "metadata": {
  "kernelspec": {
   "display_name": "Python 3",
   "language": "python",
   "name": "python3"
  },
  "language_info": {
   "codemirror_mode": {
    "name": "ipython",
    "version": 3
   },
   "file_extension": ".py",
   "mimetype": "text/x-python",
   "name": "python",
   "nbconvert_exporter": "python",
   "pygments_lexer": "ipython3",
   "version": "3.7.3"
  }
 },
 "nbformat": 4,
 "nbformat_minor": 2
}
